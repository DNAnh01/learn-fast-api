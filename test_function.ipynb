{
 "cells": [
  {
   "cell_type": "markdown",
   "metadata": {},
   "source": [
    "#### crud_user_subscription_plan"
   ]
  },
  {
   "cell_type": "markdown",
   "metadata": {},
   "source": [
    "<img src=\"./docs/crud_user_subscription_plan.png\" width='760px'/>"
   ]
  },
  {
   "cell_type": "code",
   "execution_count": 3,
   "metadata": {},
   "outputs": [
    {
     "data": {
      "text/plain": [
       "'UserSubscriptionPlan(\\n{\\n    \"_Builder__u_id\": \"99abd82a-2686-4624-96b9-cc3c06c198ed\",\\n    \"_Builder__u_email\": \"admin@admin.com\",\\n    \"_Builder__us_expire_at\": \"2025-04-14 21:20:03.707099+07:00\",\\n    \"_Builder__sp_plan_title\": \"yearly_premium\",\\n    \"_Builder__sp_plan_price\": 75.0,\\n    \"_Builder__sp_available_model\": \"GPT-4 LLM\",\\n    \"_Builder__sp_message_credits\": 6000,\\n    \"_Builder__sp_number_of_chatbots\": 5,\\n    \"_Builder__sp_max_character_per_chatbot\": 2000000,\\n    \"_Builder__sp_live_agent_takeover\": false,\\n    \"_Builder__sp_remove_label\": false\\n}\\n)'"
      ]
     },
     "metadata": {},
     "output_type": "display_data"
    }
   ],
   "source": [
    "from sqlalchemy.orm import Session\n",
    "\n",
    "from app.crud.crud_user_subscription_plan import crud_user_subscription_plan\n",
    "from app.db.session import SessionLocal\n",
    "from app.schemas.user_subscription_plan import UserSubscriptionPlan\n",
    "from IPython.display import display\n",
    "\n",
    "db: Session = SessionLocal()\n",
    "\n",
    "res: UserSubscriptionPlan = crud_user_subscription_plan.get_user_subscription_plan(\n",
    "    db=db,\n",
    "    user_id='99abd82a-2686-4624-96b9-cc3c06c198ed'\n",
    ")\n",
    "\n",
    "display(res.__str__())"
   ]
  }
 ],
 "metadata": {
  "kernelspec": {
   "display_name": "learn-python-api-dev",
   "language": "python",
   "name": "python3"
  },
  "language_info": {
   "codemirror_mode": {
    "name": "ipython",
    "version": 3
   },
   "file_extension": ".py",
   "mimetype": "text/x-python",
   "name": "python",
   "nbconvert_exporter": "python",
   "pygments_lexer": "ipython3",
   "version": "3.9.6"
  }
 },
 "nbformat": 4,
 "nbformat_minor": 2
}
