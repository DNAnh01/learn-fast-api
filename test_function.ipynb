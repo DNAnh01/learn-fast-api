{
 "cells": [
  {
   "cell_type": "markdown",
   "metadata": {},
   "source": [
    "#### crud_user_subscription_plan"
   ]
  },
  {
   "cell_type": "code",
   "execution_count": 10,
   "metadata": {},
   "outputs": [
    {
     "data": {
      "text/plain": [
       "'UserSubscriptionPlan(_Builder__u_id=99abd82a-2686-4624-96b9-cc3c06c198ed, _Builder__u_email=admin@admin.com, _Builder__u_display_name=admin, _Builder__us_expire_at=2025-04-14 21:20:03.707099+07:00, _Builder__us_created_at=2024-04-14 21:20:03.707099+07:00, _Builder__us_updated_at=2024-04-14 21:20:03.707099+07:00, _Builder__us_is_active=True, _Builder__sp_plan_title=yearly_premium, _Builder__sp_plan_price=75.0, _Builder__sp_available_model=GPT-4 LLM, _Builder__sp_message_credits=6000, _Builder__sp_number_of_chatbots=5, _Builder__sp_max_character_per_chatbot=2000000, _Builder__sp_live_agent_takeover=False, _Builder__sp_remove_label=False, _Builder__sp_created_at=2024-04-14 21:20:02.922038+07:00, _Builder__sp_updated_at=2024-04-14 21:20:02.922038+07:00, _Builder__sp_is_active=True)'"
      ]
     },
     "metadata": {},
     "output_type": "display_data"
    }
   ],
   "source": [
    "from sqlalchemy.orm import Session\n",
    "\n",
    "from app.crud.crud_user_subscription_plan import crud_user_subscription_plan\n",
    "from app.db.session import SessionLocal\n",
    "from app.schemas.user_subscription_plan import UserSubscriptionPlan\n",
    "from IPython.display import display\n",
    "\n",
    "db: Session = SessionLocal()\n",
    "\n",
    "res: UserSubscriptionPlan = crud_user_subscription_plan.get_user_subscription_plan(\n",
    "    db=db,\n",
    "    user_id='99abd82a-2686-4624-96b9-cc3c06c198ed'\n",
    ")\n",
    "\n",
    "display(res.__str__())"
   ]
  },
  {
   "cell_type": "markdown",
   "metadata": {},
   "source": [
    "<img src=\"./docs/crud_user_subscription_plan.png\" width=\"760px\">"
   ]
  }
 ],
 "metadata": {
  "kernelspec": {
   "display_name": "learn-python-api-dev",
   "language": "python",
   "name": "python3"
  },
  "language_info": {
   "codemirror_mode": {
    "name": "ipython",
    "version": 3
   },
   "file_extension": ".py",
   "mimetype": "text/x-python",
   "name": "python",
   "nbconvert_exporter": "python",
   "pygments_lexer": "ipython3",
   "version": "3.9.6"
  }
 },
 "nbformat": 4,
 "nbformat_minor": 2
}
